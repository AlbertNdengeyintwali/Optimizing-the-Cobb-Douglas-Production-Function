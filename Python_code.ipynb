{
 "cells": [
  {
   "cell_type": "markdown",
   "id": "44bddc24",
   "metadata": {},
   "source": [
    "# Solving system of non linear equations "
   ]
  },
  {
   "cell_type": "markdown",
   "id": "45c49b4f",
   "metadata": {},
   "source": [
    "### First system of non linear equations "
   ]
  },
  {
   "cell_type": "markdown",
   "id": "7cfcbd47",
   "metadata": {},
   "source": [
    "Solving First-Order Conditions (FOCs) to get the values of $K, L, M, N$  and $\\lambda$ for maximizing the output:\n",
    "\n",
    "\n",
    "\n",
    "$$\\dfrac{\\partial \\mathscr{L}}{\\partial K} = 0.112896K^{-0.853}L^{0.521}M^{0.763}N^{0.044} -50\\lambda = 0  \\hspace{1.5in}(1)$$\n",
    "$$\\dfrac{\\partial \\mathscr{L}}{\\partial L} = 0.400128K^{0.147}L^{-0.479}M^{0.763}N^{0.044} -30\\lambda = 0  \\hspace{1.5in}(2)$$\n",
    "$$\\dfrac{\\partial \\mathscr{L}}{\\partial M} = 0.585984K^{0.147}L^{0.521}M^{-0.237}N^{0.044} -25\\lambda = 0  \\hspace{1.47in}(3)$$\n",
    "$$\\dfrac{\\partial \\mathscr{L}}{\\partial N} = 0.033792K^{0.147}L^{0.521}M^{0.763}N^{-0.956} -20\\lambda = 0  \\hspace{1.5in}(4)$$\n",
    "$$\\dfrac{\\partial \\mathscr{L}}{\\partial \\lambda} = \n",
    "30,000 - 50K - 30L - 25M - 20N = 0  \\hspace{1.9in}(5)$$"
   ]
  },
  {
   "cell_type": "code",
   "execution_count": 11,
   "id": "470503b9",
   "metadata": {},
   "outputs": [
    {
     "name": "stdout",
     "output_type": "stream",
     "text": [
      "[5.97966102e+01 3.53220339e+02 6.20745763e+02 4.47457627e+01\n",
      " 2.34078507e-01]\n"
     ]
    }
   ],
   "source": [
    "from numpy import * \n",
    "from scipy.optimize import *\n",
    "\n",
    "def myFunction(Q):\n",
    "    K=Q[0]\n",
    "    L=Q[1]\n",
    "    M=Q[2]\n",
    "    N=Q[3]\n",
    "    Lambda=Q[4]\n",
    "    \n",
    "    F=empty((5))\n",
    "    F[0]=0.112896*pow(K,-0.853)*pow(L,0.521)*pow(M,0.763)*pow(N,0.044)-50*Lambda\n",
    "    F[1]=0.400128*pow(K,0.147)*pow(L,-0.479)*pow(M,0.763)*pow(N,0.044)-30*Lambda\n",
    "    F[2]=0.585984*pow(K,0.147)*pow(L,0.521)*pow(M,-0.237)*pow(N,0.044)-25*Lambda\n",
    "    F[3]=0.033792*pow(K,0.147)*pow(L,0.521)*pow(M,0.763)*pow(N,-0.956)-20*Lambda\n",
    "    F[4]=50*K+30*L+25*M+20*N-30000\n",
    "    return F\n",
    "\n",
    "QGuess=array([1,1,1,1,1])\n",
    "Q=fsolve(myFunction, QGuess)\n",
    "print(Q)\n"
   ]
  },
  {
   "cell_type": "markdown",
   "id": "e523bdfd",
   "metadata": {},
   "source": [
    "### Second system of non linear equations "
   ]
  },
  {
   "cell_type": "markdown",
   "id": "dc424e30",
   "metadata": {},
   "source": [
    "Solving First-Order Conditions (FOCs) to get the values of $K, L, M, N$  and $\\lambda$ for minimizing the cost:\n",
    "\n",
    "$$\\frac{\\partial G}{\\partial K} = 50 + \\lambda\\left(-0.112896K^{-0.853}L^{0.521}M^{0.763}N^{0.044}\\right) = 0 \\hspace{1.5in}(1)$$\n",
    "$$\\frac{\\partial G}{\\partial L} = 30 + \\lambda\\left(-0.400128K^{0.147}L^{-0.479}M^{0.763}N^{0.044}\\right) = 0 \\hspace{1.5in}(2)$$\n",
    "$$\\frac{\\partial G}{\\partial M} = 25 + \\lambda\\left(-0.585984K^{0.147}L^{0.521}M^{-0.237}N^{0.044}\\right) = 0 \\hspace{1.47in}(3)$$\n",
    "$$\\frac{\\partial G}{\\partial N} = 20 + \\lambda\\left(-0.033792K^{0.147}L^{0.521}M^{0.763}N^{-0.956}\\right) = 0 \\hspace{1.5in}(4)$$\n",
    "$$\\frac{\\partial G}{\\partial \\lambda} = 1,200 - 0.768K^{0.147}L^{0.521}M^{0.763}N^{0.044} = 0 \\hspace{2.05in}(5)$$"
   ]
  },
  {
   "cell_type": "code",
   "execution_count": 19,
   "id": "ca87ff46",
   "metadata": {},
   "outputs": [
    {
     "name": "stdout",
     "output_type": "stream",
     "text": [
      "[ 23.49131857 138.76391129 243.86225946  17.57853771   6.65853701]\n"
     ]
    }
   ],
   "source": [
    "from numpy import * \n",
    "from scipy.optimize import *\n",
    "np.seterr(invalid='ignore', divide='ignore')\n",
    "\n",
    "def myFunction(TC):\n",
    "    K=TC[0]\n",
    "    L=TC[1]\n",
    "    M=TC[2]\n",
    "    N=TC[3]\n",
    "    Lambda=TC[4]\n",
    "    \n",
    "    G=empty((5))\n",
    "    G[0]=50-0.112896*pow(K,-0.853)*pow(L,0.521)*pow(M,0.763)*pow(N,0.044)*Lambda\n",
    "    G[1]=30-0.400128*pow(K,0.147)*pow(L,-0.479)*pow(M,0.763)*pow(N,0.044)*Lambda\n",
    "    G[2]=25-0.585984*pow(K,0.147)*pow(L,0.521)*pow(M,-0.237)*pow(N,0.044)*Lambda\n",
    "    G[3]=20-0.033792*pow(K,0.147)*pow(L,0.521)*pow(M,0.763)*pow(N,-0.956)*Lambda\n",
    "    G[4]=1200-0.768*pow(K,0.147)*pow(L,0.521)* pow(M,0.763)* pow(N,0.044)\n",
    "    \n",
    "    return G\n",
    "\n",
    "TCGuess=array ([1,1,1,1,1])\n",
    "TC=fsolve(myFunction, TCGuess)\n",
    "print(TC)"
   ]
  }
 ],
 "metadata": {
  "kernelspec": {
   "display_name": "Python 3 (ipykernel)",
   "language": "python",
   "name": "python3"
  },
  "language_info": {
   "codemirror_mode": {
    "name": "ipython",
    "version": 3
   },
   "file_extension": ".py",
   "mimetype": "text/x-python",
   "name": "python",
   "nbconvert_exporter": "python",
   "pygments_lexer": "ipython3",
   "version": "3.10.9"
  }
 },
 "nbformat": 4,
 "nbformat_minor": 5
}
